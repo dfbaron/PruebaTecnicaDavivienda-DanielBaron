{
 "cells": [
  {
   "cell_type": "code",
   "execution_count": 1,
   "metadata": {},
   "outputs": [],
   "source": [
    "import csv\n",
    "import pandas as pd\n",
    "import numpy as np\n",
    "from math import radians, sin, cos, sqrt, atan2\n",
    "import json\n",
    "\n",
    "from tqdm import tqdm\n",
    "tqdm.pandas()\n",
    "\n",
    "import warnings\n",
    "warnings.filterwarnings('ignore')"
   ]
  },
  {
   "cell_type": "code",
   "execution_count": 2,
   "metadata": {},
   "outputs": [],
   "source": [
    "from sklearn.model_selection import train_test_split\n",
    "from sklearn.preprocessing import OneHotEncoder, LabelEncoder, StandardScaler\n",
    "from sklearn.compose import ColumnTransformer\n",
    "from sklearn.pipeline import Pipeline\n",
    "\n",
    "from sklearn.linear_model import LinearRegression, Ridge, Lasso\n",
    "from sklearn.tree import DecisionTreeRegressor\n",
    "from sklearn.ensemble import RandomForestRegressor, GradientBoostingRegressor\n",
    "from sklearn.svm import SVR\n",
    "from sklearn.neighbors import KNeighborsRegressor\n",
    "from sklearn.linear_model import ElasticNet\n",
    "from xgboost import XGBRegressor\n",
    "from sklearn.model_selection import RandomizedSearchCV\n",
    "from sklearn.metrics import make_scorer\n",
    "from sklearn.metrics import mean_absolute_percentage_error"
   ]
  },
  {
   "cell_type": "markdown",
   "metadata": {},
   "source": [
    "## Cargar la información"
   ]
  },
  {
   "cell_type": "code",
   "execution_count": 3,
   "metadata": {},
   "outputs": [],
   "source": [
    "train_housing_prices = pd.read_csv('train_precios_vivienda.csv', low_memory=False)\n",
    "test_housing_prices = pd.read_csv('test_precios_vivienda.csv', low_memory=False)"
   ]
  },
  {
   "cell_type": "markdown",
   "metadata": {},
   "source": [
    "# Preprocesamiento de la información"
   ]
  },
  {
   "cell_type": "markdown",
   "metadata": {},
   "source": [
    "## Definir funciones importantes"
   ]
  },
  {
   "cell_type": "code",
   "execution_count": 4,
   "metadata": {},
   "outputs": [],
   "source": [
    "def assign_uso_principal(string):\n",
    "\n",
    "    residencial = ['VIVIEND', 'RESIDEN', 'HABIT', 'FAMIL']\n",
    "    comercial = ['COMERC', 'OFIC', 'INDUS']\n",
    "    institucional = ['INST', 'EDU']\n",
    "\n",
    "    categorias = {}\n",
    "    res = sum([1 for x in residencial if x in string ])\n",
    "    com = sum([1 for x in comercial if x in string ])\n",
    "    inst = sum([1 for x in institucional if x in string ])\n",
    "\n",
    "    categorias['residencial'] = 0\n",
    "    categorias['comercial'] = 0\n",
    "    categorias['institucional'] = 0\n",
    "\n",
    "    if res > 0:\n",
    "        categorias['residencial'] = 1\n",
    "    if com > 0:\n",
    "        categorias['comercial'] = 1\n",
    "    if inst > 0:\n",
    "        categorias['institucional'] = 1\n",
    "    \n",
    "    return categorias\n",
    "\n",
    "def rows_with_special_character(df):\n",
    "    special_characters = r'[!@#$%^&*(),.?\":{}|<>]'\n",
    "    has_special_char = df.apply(lambda x: x.str.contains(special_characters).any(), axis=1)\n",
    "    return df[has_special_char].drop_duplicates()"
   ]
  },
  {
   "cell_type": "markdown",
   "metadata": {},
   "source": [
    "## Transformación de columnas"
   ]
  },
  {
   "cell_type": "code",
   "execution_count": 5,
   "metadata": {},
   "outputs": [],
   "source": [
    "def preprocess_information(df, numeric_cols, delete_columns, replace_columns, keep_rows, delete_rows):\n",
    "    \n",
    "    #Transformaciones a algunas columnas\n",
    "    df['uso_principal_ph'] = df['uso_principal_ph'] + df['rph'] + df['porteria']\n",
    "    df['uso_principal_ph'] = df['uso_principal_ph'].str.upper()\n",
    "    df['detalle_material'] = df['detalle_material'].str.replace('PÃ³rticos','Pórticos').str.replace('MamposterÃ­a','Mampostería')\n",
    "    df['tipo_deposito'] = df['tipo_deposito'].replace('0', 'No disponible')\n",
    "\n",
    "    #Arreglar las columnas numéricas\n",
    "    for numeric_col in numeric_cols:\n",
    "        try:\n",
    "            df[numeric_col] = df[numeric_col].astype(float)\n",
    "        except:\n",
    "            df[numeric_col] = pd.to_numeric(df[numeric_col].fillna('0').str.replace(',', '.'), errors='coerce').fillna(0).astype(float)\n",
    "            \n",
    "    #Eliminar las columnas innecesarias\n",
    "    df.drop(delete_columns, inplace=True, axis=1)\n",
    "\n",
    "    #Reemplazar los valores por cada columna\n",
    "    for columns in replace_columns.keys():\n",
    "        for column in columns:\n",
    "            df[column] = df[column].replace(replace_columns[columns])\n",
    "\n",
    "    #Filtrado de valores por columna a valores posibles\n",
    "    for column in keep_rows.keys():\n",
    "        df = df[df[column].isin(keep_rows[column])]\n",
    "\n",
    "    #Eliminación de filas con valores que no corresponden a los valores posibles\n",
    "    for column in delete_rows.keys():\n",
    "        df = df[~df[column].isin(delete_rows[column])]\n",
    "\n",
    "    #Transformaciones adicionales\n",
    "    df['uso_principal'] = df['uso_principal_ph'].apply(assign_uso_principal)\n",
    "    df_exp = pd.json_normalize(df['uso_principal'])\n",
    "    df = pd.concat([df, df_exp], axis=1)\n",
    "    df.drop(columns=['uso_principal', 'uso_principal_ph'], inplace=True)\n",
    "\n",
    "    n_antes = len(df)\n",
    "    print('Longitud de los datos antes de eliminar nulos: {}'.format(n_antes))\n",
    "    df = df.dropna()\n",
    "    n_despues = len(df)\n",
    "    porc_elim = round((abs(n_despues-n_antes)/n_antes)*100,2)\n",
    "    print('Longitud de los datos despues de eliminar nulos: {}'.format(n_despues))\n",
    "    print(f'La cantidad de datos borrados fue del {porc_elim} %')\n",
    "    print()\n",
    "\n",
    "    return df"
   ]
  },
  {
   "cell_type": "code",
   "execution_count": 6,
   "metadata": {},
   "outputs": [],
   "source": [
    "numeric_cols = [\n",
    "    'area_privada', 'valor_area_privada', 'area_garaje', 'valor_area_garaje', 'area_deposito', 'valor_area_deposito','area_terreno','valor_area_terreno',\n",
    "    'area_construccion','valor_area_construccion','area_otros','valor_area_otros','area_libre','valor_area_libre', 'habitaciones', 'numero_total_depositos'\n",
    "]"
   ]
  },
  {
   "cell_type": "code",
   "execution_count": 7,
   "metadata": {},
   "outputs": [],
   "source": [
    "delete_columns = [\n",
    "    'Unnamed: 0', 'direccion_inmueble_informe', 'descripcion_general_sector', 'perspectivas_de_valorizacion', 'actualidad_edificadora',\n",
    "    'comportamiento_oferta_demanda', 'descripcion_tipo_inmueble', 'descripcion_uso_inmueble', 'descripcion_clase_inmueble', 'observaciones_altura_permitida',\n",
    "    'observaciones_aislamiento_posterior', 'observaciones_aislamiento_lateral', 'observaciones_antejardin', 'observaciones_indice_ocupacion', \n",
    "    'observaciones_indice_construccion', 'observaciones_generales_inmueble', 'condicion_ph', 'observaciones_estructura', 'observaciones_dependencias', \n",
    "    'numero_garaje_1', 'numero_garaje_2', 'numero_garaje_3', 'numero_garaje_4', 'numero_garaje_5', 'matricula_garaje_1', 'matricula_garaje_2',\n",
    "    'matricula_garaje_3', 'matricula_garaje_4', 'matricula_garaje_5', 'numero_deposito_1', 'matricula_inmobiliaria_deposito_1', 'numero_deposito_2',\n",
    "    'matricula_inmobiliaria_deposito_2', 'numero_deposito_3', 'matricula_inmobiliaria_deposito_3', 'numero_deposito_4', 'matricula_inmobiliaria_deposito_4',\n",
    "    'numero_deposito_5', 'matricula_inmobiliaria_deposito_5', 'observaciones_generales_construccion', 'metodo_valuacion_1', 'metodo_valuacion_1', 'concepto_del_metodo_1',\n",
    "    'metodo_valuacion_2','concepto_del_metodo_2','metodo_valuacion_3','concepto_del_metodo_3','metodo_valuacion_4','concepto_del_metodo_4','metodo_valuacion_5',\n",
    "    'concepto_del_metodo_5', 'metodo_valuacion_6', 'concepto_del_metodo_6', 'metodo_valuacion_7', 'concepto_del_metodo_7', 'metodo_valuacion_8', 'concepto_del_metodo_8',\n",
    "    'metodo_valuacion_9', 'concepto_del_metodo_9', 'barrio', 'unidades', 'garaje_paralelo_4', 'garaje_doble_5', 'garaje_paralelo_5', 'garaje_servidumbre_5', 'area_libre',\n",
    "    'tipo_subsidio', 'fecha_aprobación', 'id', 'valor_uvr', 'valor_avaluo_en_uvr'\n",
    "]"
   ]
  },
  {
   "cell_type": "code",
   "execution_count": 8,
   "metadata": {},
   "outputs": [],
   "source": [
    "replace_columns = {\n",
    "    ('objeto',): {\n",
    "       'OriginaciÃ³n':'Originación' \n",
    "    },\n",
    "    ('motivo',): {\n",
    "        'CrÃ©dito hipotecario de vivienda': 'Crédito hipotecario de vivienda',\n",
    "        'Dación en Pago': 'DaciÃ³n en Pago',\n",
    "        'ActualizaciÃ³n de garantÃ­as':'Actualización de garantías',\n",
    "        'CrÃ©dito Comercial':'Crédito Comercial',\n",
    "        'ActualizaciÃ³n de garantÃ\\xadas Leasing': 'Actualización de garantías'\n",
    "    },\n",
    "    ('proposito',): {\n",
    "        'GarantÃ­a Hipotecaria': 'Garantía Hipotecaria',\n",
    "        'TransacciÃ³n Comercial de Venta': 'Transacción Comercial de Venta',\n",
    "        'TransacciÃ³n Comercial de Renta': 'Transacción Comercial de Venta'\n",
    "    },\n",
    "    ('garaje_cubierto_1', 'garaje_doble_1', 'garaje_paralelo_1', 'garaje_servidumbre_1', 'garaje_cubierto_2', 'garaje_doble_2', 'garaje_paralelo_2',\n",
    "     'garaje_servidumbre_2', 'garaje_cubierto_3', 'garaje_doble_3', 'garaje_paralelo_3', 'garaje_servidumbre_3', 'garaje_cubierto_4', 'garaje_doble_4',\n",
    "     'garaje_servidumbre_4', 'garaje_cubierto_5', 'acueducto_en_el_predio', 'gas_en_el_predio', 'energia_en_el_predio', 'telefono_en_el_predio', \n",
    "     'predio_subdividido_fisicamente', 'rph', 'porteria', 'citofono', 'bicicletero', 'piscina', 'tanque_de_agua', 'club_house', 'garaje_visitantes', \n",
    "     'teatrino', 'sauna', 'vigilancia_privada', 'tipo_vigilancia', 'administracion'): {\n",
    "        '0': 'No',\n",
    "        '1': 'Si',\n",
    "    },\n",
    "    ('departamento_inmueble',):{\n",
    "        'BOGOTÃ, D. C.': 'BOGOTÁ, D. C.',\n",
    "        'BOLÃVAR': 'BOLÍVAR',\n",
    "        'ATLÃNTICO':'ATLÁNTICO',\n",
    "        'CÃ“RDOBA':'CÓRDOBA',\n",
    "        'BOYACÃ':'BOYACÁ',\n",
    "        'QUINDÃO':'QUINDÍO',\n",
    "        'NARIÃ‘O':'NARIÑO',\n",
    "        'CAQUETÃ':'CAQUETÁ',\n",
    "        'GUAINÃA':'GUAINÍA',\n",
    "        'CHOCÃ“':'CHOCÓ',\n",
    "        'ARCHIPIÃ‰LAGO DE SAN ANDRÃ‰S, PROVIDENCIA Y':'ARCHIPIÉLAGO DE SAN ANDRÉS, PROVIDENCIA Y',\n",
    "    },\n",
    "    ('municipio_inmueble',):{\n",
    "        'BOGOTÃ, D. C.': 'BOGOTÁ, D. C.',\n",
    "    },\n",
    "    ('demanda_interes',): {\n",
    "        'DÃ©bil': 'Débil',\n",
    "    },\n",
    "    ('uso_actual',): {\n",
    "        '0': 'Otro',\n",
    "        'Ind. QuÃ­mica': 'Ind. Quí­mica',\n",
    "        'EducaciÃ³n':'Educación'\n",
    "    },\n",
    "    ('clase_inmueble',): {\n",
    "        '0': 'Otro'\n",
    "    },\n",
    "    ('altura_permitida', 'aislamiento_posterior', 'aislamiento_lateral', 'antejardin', 'indice_ocupacion', 'indice_construccion'):{\n",
    "        '0': 'No Aplica'\n",
    "    },\n",
    "    ('uso_principal_ph',): {\n",
    "        'RESIDENCIAL.': 'RESIDENCIAL',\n",
    "        'RESIDENCAIL.': 'RESIDENCIAL',\n",
    "        'VVIENDA': 'VIVIENDA',\n",
    "        'VIVENDA': 'VIVIENDA',\n",
    "        'VIVIENDA.': 'VIVIENDA',\n",
    "        'VVIIENDA': 'VIVIENDA',\n",
    "        'VIIVENDA': 'VIVIENDA',\n",
    "        'VVIVIENDA': 'VIVIENDA',\n",
    "        'VIVIENDAS': 'VIVIENDA',\n",
    "        'RESIDECNIAL': 'RESIDENCIAL',\n",
    "        'VIVIVENDA': 'VIVIENDA',\n",
    "        'VIVINEDA': 'VIVIENDA',    \n",
    "        'VIVIENDDA': 'VIVIENDA',\n",
    "        'VIVIWENDA': 'VIVIENDA',\n",
    "        'VIVIIENDA': 'VIVIENDA',\n",
    "        'RESIDENCAIL': 'RESIDENCIAL',\n",
    "        'MIXTA': 'MIXTO',\n",
    "        'REISIDENCIAL':'RESIDENCIAL',\n",
    "        'RESODENCIAL':'RESIDENCIAL',\n",
    "        'USO RESIDENCIAL':'RESIDENCIAL',\n",
    "        'RSIDENCIAL':'RESIDENCIAL',\n",
    "        'RESIDENCIAL - TURÃ­STICO': 'RESIDENCIAL - TURISMO',\n",
    "        'VIVIENDA Y RECREACIÃ³N': 'VIVIENDA Y RECREACIÓN',\n",
    "        'REISDENCIAL': 'RESIDENCIAL',\n",
    "        'VIVIEND': 'VIVIENDA',\n",
    "        'VIVIEDA': 'VIVIENDA',\n",
    "        'VIVIENADA': 'VIVIENDA',\n",
    "        'VIVINDA': 'VIVIENDA',\n",
    "        'VIIVIENDA': 'VIVIENDA',\n",
    "        'VIVIEMDA': 'VIVIENDA',\n",
    "        'VIVVIENDA': 'VIVIENDA',\n",
    "        'RESIDECIAL': 'RESIDENCIAL',\n",
    "        'RESIENCIAL': 'RESIDENCIAL',\n",
    "        'RESIDENCIA': 'RESIDENCIAL',\n",
    "        'RESIDNECIAL':'RESIDENCIAL',\n",
    "        'REIDENCIAL':'RESIDENCIAL',\n",
    "        'REDIDENCIAL': 'RESIDENCIAL',\n",
    "    },\n",
    "    ('estructura',): {\n",
    "        '1': 'Otros',\n",
    "        '2': 'Otros',\n",
    "    },\n",
    "    ('cubierta',): {\n",
    "        'Teja metÃ¡lica': 'Teja metálica',\n",
    "        'Teja plÃ¡stica': 'Teja plástica',\n",
    "    },\n",
    "    ('fachada',):{\n",
    "        'PaÃ±ete y pintura': 'Pañete y pintura'\n",
    "    },\n",
    "    ('danos_previos',): {\n",
    "        'Sin daÃ±os previos': 'Sin daños previos',\n",
    "        'Con daÃ±os previos': 'Con daños previos'\n",
    "    },\n",
    "    ('material_de_construccion',): {\n",
    "        'MamposterÃ­a': 'Mampostería'\n",
    "    },\n",
    "    ('detalle_material',): {\n",
    "        '0': 'No disponible'    \n",
    "    }\n",
    "}"
   ]
  },
  {
   "cell_type": "code",
   "execution_count": 9,
   "metadata": {},
   "outputs": [],
   "source": [
    "keep_rows = {\n",
    "    'alcantarillado_en_el_predio': ['Si', 'No'],\n",
    "    'rph': ['No', 'Si'],\n",
    "    'estado_acabados_pisos': ['Bueno', 'Sin acabados', 'Regular', 'Malo'],    \n",
    "}"
   ]
  },
  {
   "cell_type": "code",
   "execution_count": 10,
   "metadata": {},
   "outputs": [],
   "source": [
    "delete_rows = {\n",
    "    'objeto':['2018-06-19 19:48:27.269-05'],\n",
    "    'motivo': ['0'],\n",
    "    'proposito': ['0'],\n",
    "    'departamento_inmueble': ['Ochoa Vahos Alba del Carmen', 'Rios Duque Sandra Rafaela','Velasquez Chica Enit Juliet','Franco Emilio Ayala', \n",
    "                              'Andres Felipe Orozco Vasquez', 'Anatilde Toro Echavarria', 'Lara Gomez Miguel Eduardo', 'Alicia Maria Velez Restrepo'],\n",
    "    'sector': ['LOS GIRASOLES'],\n",
    "    'estrato': ['Comercial', 'Industrial', 'Oficina'],\n",
    "    'tipo_inmueble': ['0'],\n",
    "    'ocupante': ['10 pisos', 'contador de tres alcobas c/u', '0'],\n",
    "    'pisos_bodega': ['2017'],\n",
    "    'ajustes_sismoresistentes': ['Mamposteria Estructural', 'Muro de carga', 'Tradicional'], \n",
    "    'garaje_cubierto_1': ['50C-1731779']\n",
    "}"
   ]
  },
  {
   "cell_type": "markdown",
   "metadata": {},
   "source": [
    "## Preprocesamiento de features"
   ]
  },
  {
   "cell_type": "code",
   "execution_count": 11,
   "metadata": {},
   "outputs": [
    {
     "name": "stdout",
     "output_type": "stream",
     "text": [
      "Longitud de los datos antes de eliminar nulos: 11564\n",
      "Longitud de los datos despues de eliminar nulos: 11052\n",
      "La cantidad de datos borrados fue del 4.43 %\n",
      "\n",
      "Longitud de los datos antes de eliminar nulos: 1286\n",
      "Longitud de los datos despues de eliminar nulos: 1235\n",
      "La cantidad de datos borrados fue del 3.97 %\n",
      "\n"
     ]
    }
   ],
   "source": [
    "train_housing_prices_proc = preprocess_information(train_housing_prices, numeric_cols, delete_columns, replace_columns, keep_rows, delete_rows)\n",
    "test_housing_prices_proc = preprocess_information(test_housing_prices, numeric_cols, delete_columns, replace_columns, keep_rows, delete_rows)"
   ]
  },
  {
   "cell_type": "code",
   "execution_count": 12,
   "metadata": {},
   "outputs": [
    {
     "data": {
      "text/plain": [
       "0"
      ]
     },
     "execution_count": 12,
     "metadata": {},
     "output_type": "execute_result"
    }
   ],
   "source": [
    "len(train_housing_prices_proc.columns)-len(test_housing_prices_proc.columns)"
   ]
  },
  {
   "cell_type": "markdown",
   "metadata": {},
   "source": [
    "## Definir el tipo de Feature: \n",
    "- Categorica\n",
    "- Numerica"
   ]
  },
  {
   "cell_type": "code",
   "execution_count": 13,
   "metadata": {},
   "outputs": [],
   "source": [
    "def identify_feature_types(df, cat_features, num_features, threshold_unique):\n",
    "    categorical_features = []\n",
    "    numerical_features = []\n",
    "\n",
    "    for col in df.columns:\n",
    "        if col != 'valor_total_avaluo':\n",
    "            n = len(df[col].unique())\n",
    "            if (n <= threshold_unique or col in cat_features) and col not in num_features:\n",
    "                categorical_features.append([col, n])\n",
    "            elif (n > threshold_unique or col in num_features) and col not in cat_features:\n",
    "                numerical_features.append([col, n])\n",
    "\n",
    "    return categorical_features, numerical_features"
   ]
  },
  {
   "cell_type": "code",
   "execution_count": 14,
   "metadata": {},
   "outputs": [],
   "source": [
    "cat_features = [\n",
    "    'departamento_inmueble', 'municipio_inmueble'\n",
    "]\n",
    "num_features = [\n",
    "    'habitaciones', 'closet', 'bano_privado', 'sala', 'comedor', 'bano_social', 'cocina', 'zona_de_ropas', 'contadores_agua', 'accesorios',\n",
    "    'patio_interior', 'contadores_luz', 'balcon', 'terraza', 'oficina', 'total_cupos_parquedaro', 'estrato', 'bano_servicio', 'numero_total_de_garajes',\n",
    "    'local', 'estar_habitacion', 'jardin', 'numero_total_depositos', 'cuarto_servicio', 'pisos_bodega', 'bodega'\n",
    "]\n",
    "threshold_unique = 40\n",
    "\n",
    "categorical_features, numerical_features = identify_feature_types(train_housing_prices_proc, cat_features, num_features, threshold_unique)"
   ]
  },
  {
   "cell_type": "markdown",
   "metadata": {},
   "source": [
    "Dividir el conjunto de datos de entrenamiento en entrenamiento y validación."
   ]
  },
  {
   "cell_type": "markdown",
   "metadata": {},
   "source": [
    "## Tranformar las features"
   ]
  },
  {
   "cell_type": "code",
   "execution_count": 15,
   "metadata": {},
   "outputs": [],
   "source": [
    "categorical_features = [x[0] for x in categorical_features]\n",
    "numerical_features = [x[0] for x in numerical_features]"
   ]
  },
  {
   "cell_type": "code",
   "execution_count": 16,
   "metadata": {},
   "outputs": [],
   "source": [
    "for col in numerical_features:\n",
    "    try:\n",
    "        test_housing_prices_proc[col] = test_housing_prices_proc[col].astype(float)\n",
    "        train_housing_prices_proc[col] = train_housing_prices_proc[col].astype(float)\n",
    "    except:\n",
    "        test_housing_prices_proc[col] = test_housing_prices_proc[col].str.replace(',', '.')\n",
    "        test_housing_prices_proc[col] = pd.to_numeric(test_housing_prices_proc[col], errors='coerce').fillna(0).astype(float)\n",
    "\n",
    "        train_housing_prices_proc[col] = train_housing_prices_proc[col].str.replace(',', '.')\n",
    "        train_housing_prices_proc[col] = pd.to_numeric(train_housing_prices_proc[col], errors='coerce').fillna(0).astype(float)\n",
    "\n",
    "for col in categorical_features:\n",
    "    test_housing_prices_proc[col] = test_housing_prices_proc[col].astype(str)"
   ]
  },
  {
   "cell_type": "code",
   "execution_count": 17,
   "metadata": {},
   "outputs": [],
   "source": [
    "features = [x for x in train_housing_prices_proc.columns if x not in ['valor_total_avaluo']]\n",
    "\n",
    "X_train, y_train = train_housing_prices_proc[features], train_housing_prices_proc['valor_total_avaluo']\n",
    "y_train = y_train.str.replace(',', '.').astype(float)"
   ]
  },
  {
   "cell_type": "code",
   "execution_count": 18,
   "metadata": {},
   "outputs": [],
   "source": [
    "X_test, y_test = test_housing_prices_proc[features], test_housing_prices_proc['valor_total_avaluo']\n",
    "y_test = y_test.str.replace(',', '.').astype(float)"
   ]
  },
  {
   "cell_type": "code",
   "execution_count": 19,
   "metadata": {},
   "outputs": [],
   "source": [
    "# Create a pipeline for categorical features\n",
    "categorical_pipeline = Pipeline([\n",
    "    ('encoder', OneHotEncoder(handle_unknown='ignore'))\n",
    "])\n",
    "\n",
    "# Create a pipeline for numerical features\n",
    "numerical_pipeline = Pipeline([\n",
    "    ('scaler', StandardScaler())\n",
    "])\n",
    "\n",
    "# Use ColumnTransformer to apply the appropriate preprocessing for each feature type\n",
    "preprocessor = ColumnTransformer([\n",
    "    ('categorical', categorical_pipeline, categorical_features),\n",
    "    ('numerical', numerical_pipeline, numerical_features)\n",
    "])\n",
    "\n",
    "# Fit the preprocessor on the training data and transform both training and test data\n",
    "X_train_enc = preprocessor.fit_transform(X_train)\n",
    "X_test_enc = preprocessor.transform(X_test)"
   ]
  },
  {
   "cell_type": "markdown",
   "metadata": {},
   "source": [
    "## Generar los modelos"
   ]
  },
  {
   "cell_type": "markdown",
   "metadata": {},
   "source": [
    "Se genera una busqueda usando un RandomizedSearch. Se iteran diferentes hiperparámetros para los diferentes modelos escogidos"
   ]
  },
  {
   "cell_type": "code",
   "execution_count": 22,
   "metadata": {},
   "outputs": [
    {
     "name": "stderr",
     "output_type": "stream",
     "text": [
      " 80%|████████  | 8/10 [1:11:05<25:21, 760.62s/it]   File \"c:\\Users\\Dani\\anaconda3\\envs\\DL\\lib\\site-packages\\joblib\\externals\\loky\\backend\\context.py\", line 257, in _count_physical_cores\n",
      "    cpu_info = subprocess.run(\n",
      "  File \"c:\\Users\\Dani\\anaconda3\\envs\\DL\\lib\\subprocess.py\", line 501, in run\n",
      "    with Popen(*popenargs, **kwargs) as process:\n",
      "  File \"c:\\Users\\Dani\\anaconda3\\envs\\DL\\lib\\subprocess.py\", line 969, in __init__\n",
      "    self._execute_child(args, executable, preexec_fn, close_fds,\n",
      "  File \"c:\\Users\\Dani\\anaconda3\\envs\\DL\\lib\\subprocess.py\", line 1438, in _execute_child\n",
      "    hp, ht, pid, tid = _winapi.CreateProcess(executable, args,\n",
      "100%|██████████| 10/10 [1:47:31<00:00, 645.17s/it]\n"
     ]
    }
   ],
   "source": [
    "# Define a dictionary to store search results\n",
    "model_search_results = {}\n",
    "\n",
    "# Define a list of models to perform random search on\n",
    "models = {\n",
    "    'Linear Regression': LinearRegression(),\n",
    "    'Ridge Regression': Ridge(),\n",
    "    'Lasso Regression': Lasso(),\n",
    "    'ElasticNet Regression': ElasticNet(),\n",
    "    'Decision Tree Regressor': DecisionTreeRegressor(),\n",
    "    'Random Forest Regressor': RandomForestRegressor(),\n",
    "    'Gradient Boosting Regressor': GradientBoostingRegressor(),\n",
    "    'Support Vector Regressor': SVR(),\n",
    "    'K-Nearest Neighbors Regressor': KNeighborsRegressor(),\n",
    "    'XGBoost Regressor': XGBRegressor()\n",
    "}\n",
    "\n",
    "# Hyperparameters to search over for each model\n",
    "param_distributions = {\n",
    "    'Linear Regression': {'fit_intercept': [True, False]},\n",
    "    'Ridge Regression': {'alpha': [0.001, 0.01, 0.1, 1, 10]},\n",
    "    'Lasso Regression': {'alpha': [0.001, 0.01, 0.1, 1, 10]},\n",
    "    'ElasticNet Regression': {'alpha': [0.001, 0.01, 0.1, 1, 10], 'l1_ratio': [0.1, 0.5, 0.9]},\n",
    "    'Decision Tree Regressor': {'max_depth': [None, 10, 20], 'min_samples_split': [2, 5, 10]},\n",
    "    'Random Forest Regressor': {'n_estimators': [100, 200], 'max_depth': [None, 10, 20]},\n",
    "    'Gradient Boosting Regressor': {'n_estimators': [100, 200], 'learning_rate': [0.01, 0.1, 0.2]},\n",
    "    'Support Vector Regressor': {'C': [0.1, 1, 10], 'kernel': ['linear', 'poly', 'rbf']},\n",
    "    'K-Nearest Neighbors Regressor': {'n_neighbors': [3, 5, 7], 'weights': ['uniform', 'distance']},\n",
    "    'XGBoost Regressor': {'n_estimators': [100, 200, 300], 'learning_rate': [0.01, 0.1, 0.2]}\n",
    "}\n",
    "\n",
    "# Perform random search for each model\n",
    "for model_name, model in tqdm(models.items()):\n",
    "    search = RandomizedSearchCV(model, param_distributions[model_name], n_iter=20, \n",
    "                                scoring=make_scorer(mean_absolute_percentage_error, greater_is_better=False),\n",
    "                                cv=5, n_jobs=-1)\n",
    "    search.fit(X_train_enc, y_train)\n",
    "    y_pred = search.predict(X_test_enc)\n",
    "    model_search_results[model_name] = {\n",
    "        'best_params': search.best_params_,\n",
    "        'test_MAPE': mean_absolute_percentage_error(y_test, y_pred)\n",
    "    }"
   ]
  },
  {
   "cell_type": "markdown",
   "metadata": {},
   "source": [
    "## Transformar Resultados"
   ]
  },
  {
   "cell_type": "code",
   "execution_count": 35,
   "metadata": {},
   "outputs": [
    {
     "data": {
      "text/html": [
       "<div>\n",
       "<style scoped>\n",
       "    .dataframe tbody tr th:only-of-type {\n",
       "        vertical-align: middle;\n",
       "    }\n",
       "\n",
       "    .dataframe tbody tr th {\n",
       "        vertical-align: top;\n",
       "    }\n",
       "\n",
       "    .dataframe thead th {\n",
       "        text-align: right;\n",
       "    }\n",
       "</style>\n",
       "<table border=\"1\" class=\"dataframe\">\n",
       "  <thead>\n",
       "    <tr style=\"text-align: right;\">\n",
       "      <th></th>\n",
       "      <th>Model</th>\n",
       "      <th>Best Parameters</th>\n",
       "      <th>Test MAPE</th>\n",
       "    </tr>\n",
       "  </thead>\n",
       "  <tbody>\n",
       "    <tr>\n",
       "      <th>4</th>\n",
       "      <td>Decision Tree Regressor</td>\n",
       "      <td>{'min_samples_split': 5, 'max_depth': None}</td>\n",
       "      <td>0.0253</td>\n",
       "    </tr>\n",
       "    <tr>\n",
       "      <th>8</th>\n",
       "      <td>K-Nearest Neighbors Regressor</td>\n",
       "      <td>{'weights': 'distance', 'n_neighbors': 3}</td>\n",
       "      <td>0.4544</td>\n",
       "    </tr>\n",
       "    <tr>\n",
       "      <th>1</th>\n",
       "      <td>Ridge Regression</td>\n",
       "      <td>{'alpha': 0.1}</td>\n",
       "      <td>12142074727137233862656.0000</td>\n",
       "    </tr>\n",
       "    <tr>\n",
       "      <th>7</th>\n",
       "      <td>Support Vector Regressor</td>\n",
       "      <td>{'kernel': 'poly', 'C': 10}</td>\n",
       "      <td>1289898539321678364672.0000</td>\n",
       "    </tr>\n",
       "    <tr>\n",
       "      <th>0</th>\n",
       "      <td>Linear Regression</td>\n",
       "      <td>{'fit_intercept': False}</td>\n",
       "      <td>13155713727079924105216.0000</td>\n",
       "    </tr>\n",
       "    <tr>\n",
       "      <th>2</th>\n",
       "      <td>Lasso Regression</td>\n",
       "      <td>{'alpha': 10}</td>\n",
       "      <td>14509133480357703712768.0000</td>\n",
       "    </tr>\n",
       "    <tr>\n",
       "      <th>5</th>\n",
       "      <td>Random Forest Regressor</td>\n",
       "      <td>{'n_estimators': 200, 'max_depth': 10}</td>\n",
       "      <td>1595323155893107032064.0000</td>\n",
       "    </tr>\n",
       "    <tr>\n",
       "      <th>6</th>\n",
       "      <td>Gradient Boosting Regressor</td>\n",
       "      <td>{'n_estimators': 200, 'learning_rate': 0.2}</td>\n",
       "      <td>3725716016990579589120.0000</td>\n",
       "    </tr>\n",
       "    <tr>\n",
       "      <th>9</th>\n",
       "      <td>XGBoost Regressor</td>\n",
       "      <td>{'n_estimators': 300, 'learning_rate': 0.1}</td>\n",
       "      <td>67876243373772980224.0000</td>\n",
       "    </tr>\n",
       "    <tr>\n",
       "      <th>3</th>\n",
       "      <td>ElasticNet Regression</td>\n",
       "      <td>{'l1_ratio': 0.1, 'alpha': 0.1}</td>\n",
       "      <td>9717731045727866454016.0000</td>\n",
       "    </tr>\n",
       "  </tbody>\n",
       "</table>\n",
       "</div>"
      ],
      "text/plain": [
       "                           Model                              Best Parameters  \\\n",
       "4        Decision Tree Regressor  {'min_samples_split': 5, 'max_depth': None}   \n",
       "8  K-Nearest Neighbors Regressor    {'weights': 'distance', 'n_neighbors': 3}   \n",
       "1               Ridge Regression                               {'alpha': 0.1}   \n",
       "7       Support Vector Regressor                  {'kernel': 'poly', 'C': 10}   \n",
       "0              Linear Regression                     {'fit_intercept': False}   \n",
       "2               Lasso Regression                                {'alpha': 10}   \n",
       "5        Random Forest Regressor       {'n_estimators': 200, 'max_depth': 10}   \n",
       "6    Gradient Boosting Regressor  {'n_estimators': 200, 'learning_rate': 0.2}   \n",
       "9              XGBoost Regressor  {'n_estimators': 300, 'learning_rate': 0.1}   \n",
       "3          ElasticNet Regression              {'l1_ratio': 0.1, 'alpha': 0.1}   \n",
       "\n",
       "                      Test MAPE  \n",
       "4                        0.0253  \n",
       "8                        0.4544  \n",
       "1  12142074727137233862656.0000  \n",
       "7   1289898539321678364672.0000  \n",
       "0  13155713727079924105216.0000  \n",
       "2  14509133480357703712768.0000  \n",
       "5   1595323155893107032064.0000  \n",
       "6   3725716016990579589120.0000  \n",
       "9     67876243373772980224.0000  \n",
       "3   9717731045727866454016.0000  "
      ]
     },
     "execution_count": 35,
     "metadata": {},
     "output_type": "execute_result"
    }
   ],
   "source": [
    "results = []\n",
    "for key in model_search_results.keys():\n",
    "    row = [key, model_search_results[key]['best_params'], model_search_results[key]['test_MAPE']]\n",
    "    results.append(row)\n",
    "\n",
    "df_results = pd.DataFrame(data=results, columns=['Model', 'Best Parameters', 'Test MAPE'])\n",
    "df_results['Test MAPE'] = df_results['Test MAPE'].apply(lambda x: format(float(x), \".4f\"))\n",
    "df_results.sort_values('Test MAPE')"
   ]
  },
  {
   "cell_type": "code",
   "execution_count": null,
   "metadata": {},
   "outputs": [],
   "source": []
  }
 ],
 "metadata": {
  "kernelspec": {
   "display_name": "DL",
   "language": "python",
   "name": "python3"
  },
  "language_info": {
   "codemirror_mode": {
    "name": "ipython",
    "version": 3
   },
   "file_extension": ".py",
   "mimetype": "text/x-python",
   "name": "python",
   "nbconvert_exporter": "python",
   "pygments_lexer": "ipython3",
   "version": "3.10.6"
  },
  "orig_nbformat": 4
 },
 "nbformat": 4,
 "nbformat_minor": 2
}
